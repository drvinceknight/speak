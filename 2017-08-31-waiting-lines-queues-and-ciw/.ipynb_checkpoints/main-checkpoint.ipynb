{
 "cells": [
  {
   "cell_type": "code",
   "execution_count": 22,
   "metadata": {
    "collapsed": true
   },
   "outputs": [],
   "source": [
    "%matplotlib inline\n",
    "\n",
    "import ciw\n",
    "import matplotlib.pyplot as plt\n",
    "\n",
    "figsize = (14, 7)"
   ]
  },
  {
   "cell_type": "code",
   "execution_count": 23,
   "metadata": {},
   "outputs": [],
   "source": [
    "distribution = ['Deterministic', 1]\n",
    "N = ciw.create_network(Arrival_distributions=[distribution],\n",
    "                       Service_distributions=[distribution],\n",
    "                       Number_of_servers=[1])"
   ]
  },
  {
   "cell_type": "code",
   "execution_count": 24,
   "metadata": {},
   "outputs": [
    {
     "name": "stderr",
     "output_type": "stream",
     "text": [
      "100%|██████████| 5000/5000 [00:00<00:00, 15492.93it/s]\n"
     ]
    }
   ],
   "source": [
    "seed = 0\n",
    "max_customers = 5000\n",
    "ciw.seed(seed)\n",
    "Q = ciw.Simulation(N)\n",
    "Q.simulate_until_max_customers(max_customers, progress_bar=True)"
   ]
  },
  {
   "cell_type": "code",
   "execution_count": 25,
   "metadata": {},
   "outputs": [
    {
     "data": {
      "text/plain": [
       "[Arrival Node, Node 1, Exit Node]"
      ]
     },
     "execution_count": 25,
     "metadata": {},
     "output_type": "execute_result"
    }
   ],
   "source": [
    "Q.nodes"
   ]
  },
  {
   "cell_type": "code",
   "execution_count": 26,
   "metadata": {},
   "outputs": [
    {
     "data": {
      "text/plain": [
       "[Record(id_number=7, customer_class=0, node=1, arrival_date=7, waiting_time=0, service_start_date=7, service_time=1, service_end_date=8, time_blocked=0, exit_date=8, destination=-1, queue_size_at_arrival=1, queue_size_at_departure=0)]"
      ]
     },
     "execution_count": 26,
     "metadata": {},
     "output_type": "execute_result"
    }
   ],
   "source": [
    "Q.nodes[-1].all_individuals[6].data_records"
   ]
  },
  {
   "cell_type": "code",
   "execution_count": 27,
   "metadata": {},
   "outputs": [],
   "source": [
    "def analyse_total_and_service_times(Q):\n",
    "    \"\"\"\n",
    "    Obtain total time and service time of every individual\n",
    "    \"\"\"\n",
    "\n",
    "    total_times = [ind.data_records[0].exit_date - ind.data_records[0].arrival_date \n",
    "                   for ind in Q.nodes[-1].all_individuals[:-1]]\n",
    "    service_times = [ind.data_records[0].service_time \n",
    "                     for ind in Q.nodes[-1].all_individuals[:-1]]\n",
    "    return total_times, service_times\n",
    "\n",
    "total_times, service_times = analyse_total_and_service_times(Q)"
   ]
  },
  {
   "cell_type": "code",
   "execution_count": 28,
   "metadata": {},
   "outputs": [
    {
     "data": {
      "image/png": "[encoded data removed]",
      "text/plain": [
       "<matplotlib.figure.Figure at 0x7f27884c8b00>"
      ]
     },
     "metadata": {},
     "output_type": "display_data"
    }
   ],
   "source": [
    "plt.figure(figsize=figsize)\n",
    "plt.hist(total_times, bins=20, alpha=0.5, label=\"Total time\")\n",
    "plt.hist(service_times, bins=20, alpha=0.5, label=\"Service time\")\n",
    "plt.legend()\n",
    "plt.title(\"Deterministic queue\");"
   ]
  },
  {
   "cell_type": "code",
   "execution_count": 29,
   "metadata": {},
   "outputs": [
    {
     "name": "stderr",
     "output_type": "stream",
     "text": [
      "100%|██████████| 5000/5000 [00:00<00:00, 12165.08it/s]\n"
     ]
    }
   ],
   "source": [
    "distribution = ['Exponential', 1]\n",
    "N = ciw.create_network(Arrival_distributions=[distribution],\n",
    "                       Service_distributions=[distribution],\n",
    "                       Number_of_servers=[1])\n",
    "ciw.seed(seed)\n",
    "Q = ciw.Simulation(N)\n",
    "Q.simulate_until_max_customers(max_customers, progress_bar=True)"
   ]
  },
  {
   "cell_type": "code",
   "execution_count": 30,
   "metadata": {},
   "outputs": [
    {
     "data": {
      "image/png": "[encoded data removed]",
      "text/plain": [
       "<matplotlib.figure.Figure at 0x7f27809b5f28>"
      ]
     },
     "metadata": {},
     "output_type": "display_data"
    }
   ],
   "source": [
    "total_times, service_times = analyse_total_and_service_times(Q)\n",
    "\n",
    "plt.figure(figsize=figsize)\n",
    "plt.hist(total_times, bins=20, alpha=0.5, label=\"Total time\")\n",
    "plt.hist(service_times, bins=20, alpha=0.5, label=\"Service time\")\n",
    "plt.legend()\n",
    "plt.title(\"Realistic (stochastic) queue\");"
   ]
  }
 ],
 "metadata": {
  "anaconda-cloud": {},
  "kernelspec": {
   "display_name": "Python [conda root]",
   "language": "python",
   "name": "conda-root-py"
  },
  "language_info": {
   "codemirror_mode": {
    "name": "ipython",
    "version": 3
   },
   "file_extension": ".py",
   "mimetype": "text/x-python",
   "name": "python",
   "nbconvert_exporter": "python",
   "pygments_lexer": "ipython3",
   "version": "3.5.2"
  }
 },
 "nbformat": 4,
 "nbformat_minor": 2
}
