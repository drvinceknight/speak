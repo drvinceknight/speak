{
 "cells": [
  {
   "cell_type": "code",
   "execution_count": null,
   "metadata": {
    "collapsed": false
   },
   "outputs": [],
   "source": [
    "%matplotlib inline\n",
    "import collections\n",
    "import itertools\n",
    "import matplotlib.pyplot as plt\n",
    "import nash\n",
    "import numpy as np"
   ]
  },
  {
   "cell_type": "markdown",
   "metadata": {},
   "source": [
    "# Nash equilibria\n",
    "\n",
    "We will investigate these games by considering Nash equilibria: pairs of strategies from which no one has a reason to deviate.\n",
    "\n",
    "## [The Travellers Dilemma](https://en.wikipedia.org/wiki/Traveler's_dilemma)\n",
    "\n",
    "From wikipedia:\n",
    "\n",
    "> An airline loses two suitcases belonging to two different travelers. Both suitcases happen to be identical and contain identical antiques. An airline manager tasked to settle the claims of both travelers explains that the airline is liable for a maximum of $100 per suitcase—he is unable to find out directly the price of the antiques.\n",
    "\n",
    "> To determine an honest appraised value of the antiques, the manager separates both travelers so they can't confer, and asks them to write down the amount of their value at no less than \\$2 and no larger than \\$100. He also tells them that if both write down the same number, he will treat that number as the true dollar value of both suitcases and reimburse both travelers that amount. However, if one writes down a smaller number than the other, this smaller number will be taken as the true dollar value, and both travelers will receive that amount along with a bonus/malus: \\$2 extra will be paid to the traveler who wrote down the lower value and a \\$2 deduction will be taken from the person who wrote down the higher amount. The challenge is: what strategy should both travelers follow to decide the value they should write down?\n",
    "\n",
    "If we consider a smaller version of this game with the max value being \\$4 we have:\n",
    "\n",
    "$$\n",
    "\\begin{pmatrix}                                                                                                         \n",
    "2,2&4,0&4,0\\\\                                                                                                           \n",
    "0,4&3,3&5,1\\\\                                                                                                           \n",
    "0,4&1,5&4,4                                                                                                             \n",
    "\\end{pmatrix} \n",
    "$$\n",
    "\n",
    "Let us use [Nashpy](https://github.com/drvinceknight/Nashpy) to compute the Nash equilibria for this game:"
   ]
  },
  {
   "cell_type": "code",
   "execution_count": null,
   "metadata": {
    "collapsed": false
   },
   "outputs": [],
   "source": [
    "td = (np.array([[2, 4, 4], \n",
    "                [0, 3, 5], \n",
    "                [0, 1, 4]]), \n",
    "      np.array([[2, 0, 0], \n",
    "                [4, 3, 1], \n",
    "                [4, 5, 4]]))\n",
    "game = nash.Game(*td)\n",
    "list(game.equilibria())"
   ]
  },
  {
   "cell_type": "markdown",
   "metadata": {},
   "source": [
    "The Nash equilibria is for both players to play the first strategy.\n",
    "\n",
    "## [Rock Paper Scissors Lizard Spock](http://www.samkass.com/theories/RPSSL.html)\n",
    "\n",
    "This game can be represented as:\n",
    "\n",
    "$$\n",
    "\\begin{pmatrix}                                                                                                             \n",
    "0,0 & -1,1 & 1,-1 & 1,-1 & -1,1\\\\                                                                                           \n",
    "1,-1 & 0,0 & -1,1 & -1,1 & 1,-1\\\\                                                                                           \n",
    "-1,1 & 1,-1 & 0,0 & 1,-1 & -1,1\\\\                                                                                           \n",
    "-1,1 & 1,-1 & -1,1 & 0,0 & 1,-1\\\\                                                                                           \n",
    "1,-1 & -1,1 & 1,-1 & -1,1 & 0,0                                                                                             \n",
    "\\end{pmatrix}\n",
    "$$\n",
    "\n",
    "Let us consider the Nash equilibria:"
   ]
  },
  {
   "cell_type": "code",
   "execution_count": null,
   "metadata": {
    "collapsed": false
   },
   "outputs": [],
   "source": [
    "rpsls = np.array([[0, -1, 1, 1, -1],\n",
    "                  [1, 0, -1, -1, 1],\n",
    "                  [-1, 1, 0, 1, -1],\n",
    "                  [-1, 1, -1, 0, 1],\n",
    "                  [1, -1, 1, -1, 0]])\n",
    "rpsls = (rpsls, -rpsls)\n",
    "\n",
    "game = nash.Game(*rpsls)\n",
    "list(game.equilibria())"
   ]
  },
  {
   "cell_type": "markdown",
   "metadata": {},
   "source": [
    "The Nash equilibria is for both players to play randomly (with equal probability).\n",
    "\n",
    "# Genetic Algorithms\n",
    "\n",
    "Below is some basic Python code to implement a genetic algorithm:"
   ]
  },
  {
   "cell_type": "code",
   "execution_count": null,
   "metadata": {
    "collapsed": true
   },
   "outputs": [],
   "source": [
    "def get_population(number_of_strategies, size=50):\n",
    "    \"\"\"\n",
    "    Obtain a random population of strategies for a game.\n",
    "    \"\"\"\n",
    "    population = np.random.randint(0, number_of_strategies, size)\n",
    "    return population"
   ]
  },
  {
   "cell_type": "code",
   "execution_count": null,
   "metadata": {
    "collapsed": false
   },
   "outputs": [],
   "source": [
    "population = get_population(3, 10)\n",
    "population"
   ]
  },
  {
   "cell_type": "code",
   "execution_count": null,
   "metadata": {
    "collapsed": true
   },
   "outputs": [],
   "source": [
    "def get_scores(population, opponents, game):\n",
    "    \"\"\"\n",
    "    Score all the strategies\n",
    "    \"\"\"\n",
    "    return [(game[0][i, j], game[1][i, j])  \n",
    "            for i, j in zip(population, opponents)]"
   ]
  },
  {
   "cell_type": "code",
   "execution_count": null,
   "metadata": {
    "collapsed": false
   },
   "outputs": [],
   "source": [
    "opponents =  get_population(3, 10)\n",
    "scores = get_scores(population, opponents, td)\n",
    "scores"
   ]
  },
  {
   "cell_type": "code",
   "execution_count": null,
   "metadata": {
    "collapsed": true
   },
   "outputs": [],
   "source": [
    "def mutate(scores, population, opponents):\n",
    "    \"\"\"\n",
    "    Mutate the strategies, this is a naive approach: \n",
    "    if a strategy was beaten it mutates to its opponent.\n",
    "    \"\"\"\n",
    "    mutated_population = []\n",
    "    \n",
    "    for score, strategy_pair in zip(scores, zip(population, opponents)):\n",
    "\n",
    "        if score[1] >= score[0]:            \n",
    "            mutated_population.append(strategy_pair[1])\n",
    "        else:\n",
    "            mutated_population.append(strategy_pair[0])\n",
    "            \n",
    "    return np.array(mutated_population)"
   ]
  },
  {
   "cell_type": "code",
   "execution_count": null,
   "metadata": {
    "collapsed": false
   },
   "outputs": [],
   "source": [
    "mutate(scores, population, opponents)"
   ]
  },
  {
   "cell_type": "code",
   "execution_count": null,
   "metadata": {
    "collapsed": false
   },
   "outputs": [],
   "source": [
    "def evolve(game, size, generations):\n",
    "    \"\"\"\n",
    "    Evolve a population of strategies.\n",
    "    \"\"\"\n",
    "    population = get_population(len(game[0]), size)\n",
    "    opponents = get_population(len(game[0]), size)\n",
    "    \n",
    "    history = [population]\n",
    "\n",
    "    for _ in range(generations):\n",
    "        scores = get_scores(population, opponents, game)\n",
    "        population = mutate(scores, population, opponents)\n",
    "        opponents = get_population(len(game[0]), size)\n",
    "        history.append(population)\n",
    "    \n",
    "    return history\n",
    "\n",
    "def plot_history(history, game, ax, legend=True):\n",
    "    \"\"\"Plot the history of a genetic algorithm\"\"\"\n",
    "    number_of_strategies = len(game[0])\n",
    "    counts = [collections.Counter(population) for population in history]\n",
    "    for strategy in range(number_of_strategies):\n",
    "        ax.plot([generation[strategy] for generation in counts], label=strategy)\n",
    "    if legend:\n",
    "        ax.legend();"
   ]
  },
  {
   "cell_type": "markdown",
   "metadata": {},
   "source": [
    "Here is the output of this code applied to the travellers Dilemma:"
   ]
  },
  {
   "cell_type": "code",
   "execution_count": null,
   "metadata": {
    "collapsed": false
   },
   "outputs": [],
   "source": [
    "generations = 10\n",
    "size = 20\n",
    "\n",
    "fig, ax = plt.subplots(1)\n",
    "history = evolve(game=td, size=size, generations=generations)\n",
    "plot_history(history, td, ax);"
   ]
  },
  {
   "cell_type": "markdown",
   "metadata": {},
   "source": [
    "Here is the output of this code applied to rock paper scissors lizard spock:"
   ]
  },
  {
   "cell_type": "code",
   "execution_count": null,
   "metadata": {
    "collapsed": false
   },
   "outputs": [],
   "source": [
    "generations = 20\n",
    "size = 20\n",
    "\n",
    "fig, ax = plt.subplots(1)\n",
    "history = evolve(game=rpsls, size=size, generations=generations)\n",
    "plot_history(history, rpsls, ax);"
   ]
  },
  {
   "cell_type": "markdown",
   "metadata": {},
   "source": [
    "Let us investigate is this effect is due to the randomness of the algorithm:"
   ]
  },
  {
   "cell_type": "code",
   "execution_count": null,
   "metadata": {
    "collapsed": false
   },
   "outputs": [],
   "source": [
    "fig, axarr = plt.subplots(4, 4)\n",
    "coords = list(itertools.product(range(4), range(4)))\n",
    "for seed, coord in enumerate(coords):\n",
    "    np.random.seed(seed)\n",
    "    history = evolve(game=td, size=size, generations=generations)\n",
    "    title = \"Random seed: {}\".format(seed)\n",
    "    plot_history(history, td, axarr[coord[0], coord[1]], legend=False)\n",
    "    axarr[coord[0], coord[1]].set_title(title, fontsize=6)\n",
    "    axarr[coord[0], coord[1]].set_yticks([])\n",
    "    axarr[coord[0], coord[1]].set_xticks([])\n",
    "plt.tight_layout()\n",
    "plt.savefig(\"static/td_16.svg\")"
   ]
  },
  {
   "cell_type": "code",
   "execution_count": null,
   "metadata": {
    "collapsed": false
   },
   "outputs": [],
   "source": [
    "fig, axarr = plt.subplots(4, 4)\n",
    "coords = list(itertools.product(range(4), range(4)))\n",
    "for seed, coord in enumerate(coords):\n",
    "    np.random.seed(seed)\n",
    "    history = evolve(game=rpsls, size=size, generations=generations)\n",
    "    title = \"Random seed: {}\".format(seed)\n",
    "    plot_history(history, rpsls, axarr[coord[0], coord[1]], legend=False)\n",
    "    axarr[coord[0], coord[1]].set_title(title, fontsize=6)\n",
    "    axarr[coord[0], coord[1]].set_yticks([])\n",
    "    axarr[coord[0], coord[1]].set_xticks([])\n",
    "plt.tight_layout()\n",
    "plt.savefig(\"static/rpsls_16.svg\")"
   ]
  },
  {
   "cell_type": "code",
   "execution_count": null,
   "metadata": {
    "collapsed": true
   },
   "outputs": [],
   "source": []
  }
 ],
 "metadata": {
  "anaconda-cloud": {},
  "kernelspec": {
   "display_name": "Python [conda env:pyconna2017]",
   "language": "python",
   "name": "conda-env-pyconna2017-py"
  },
  "language_info": {
   "codemirror_mode": {
    "name": "ipython",
    "version": 3
   },
   "file_extension": ".py",
   "mimetype": "text/x-python",
   "name": "python",
   "nbconvert_exporter": "python",
   "pygments_lexer": "ipython3",
   "version": "3.5.2"
  }
 },
 "nbformat": 4,
 "nbformat_minor": 0
}
