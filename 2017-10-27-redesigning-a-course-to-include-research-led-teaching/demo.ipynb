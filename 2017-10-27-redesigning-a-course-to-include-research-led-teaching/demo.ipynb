{
 "cells": [
  {
   "cell_type": "markdown",
   "metadata": {},
   "source": [
    "Jupyter notebooks are very powerful tools that allow for dynamic writing of code and text. Note that this uses `markdown` which is a very simple markup language but can also include complex equations via LaTeX (or more complex *anything* via html):\n",
    "\n",
    "$$\n",
    "\\int_{0}^{\\infty}3xdx\n",
    "$$\n",
    "\n",
    "You can run code in many languages, for example, here is some `R`:"
   ]
  },
  {
   "cell_type": "code",
   "execution_count": 7,
   "metadata": {},
   "outputs": [
    {
     "data": {
      "text/html": [
       "2.5"
      ],
      "text/latex": [
       "2.5"
      ],
      "text/markdown": [
       "2.5"
      ],
      "text/plain": [
       "[1] 2.5"
      ]
     },
     "metadata": {},
     "output_type": "display_data"
    }
   ],
   "source": [
    "data <- c(1, 2, 3, 4)\n",
    "mean(data)"
   ]
  },
  {
   "cell_type": "code",
   "execution_count": 8,
   "metadata": {},
   "outputs": [
    {
     "data": {
      "image/png": "[encoded data removed]",
      "text/plain": [
       "plot without title"
      ]
     },
     "metadata": {},
     "output_type": "display_data"
    }
   ],
   "source": [
    "plot(data)"
   ]
  },
  {
   "cell_type": "markdown",
   "metadata": {},
   "source": [
    "One of the great advantages of a notebook is that it can be used to transfer to other formats:\n",
    "\n",
    "- tex;\n",
    "- md;\n",
    "- html;\n",
    "- pdf;\n",
    "- reveal."
   ]
  },
  {
   "cell_type": "markdown",
   "metadata": {},
   "source": [
    "Here is some python code I used to generate a picture for my slides:\n",
    "\n",
    "```python\n",
    "import matplotlib.pyplot as plt\n",
    "import numpy as np\n",
    "%matplotlib inline\n",
    "xs = np.linspace(1, 100, 100)\n",
    "ys = list(map(lambda x: 1 / x, xs))\n",
    "with plt.xkcd():\n",
    "    plt.xlabel(\"Premise: importance of content\")\n",
    "    plt.ylabel(\"Scaffolding\")\n",
    "    plt.plot(xs, ys)\n",
    "    plt.yticks([])\n",
    "    plt.xticks([])\n",
    "    plt.savefig(\"./static/scaffolding_vs_pedagogic_premise.pdf\", transparent=True)\n",
    "```"
   ]
  }
 ],
 "metadata": {
  "anaconda-cloud": {},
  "kernelspec": {
   "display_name": "R",
   "language": "R",
   "name": "ir"
  },
  "language_info": {
   "codemirror_mode": "r",
   "file_extension": ".r",
   "mimetype": "text/x-r-source",
   "name": "R",
   "pygments_lexer": "r",
   "version": "3.4.1"
  }
 },
 "nbformat": 4,
 "nbformat_minor": 1
}
