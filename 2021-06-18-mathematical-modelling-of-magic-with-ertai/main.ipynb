{
 "cells": [
  {
   "cell_type": "code",
   "execution_count": 1,
   "metadata": {},
   "outputs": [],
   "source": [
    "import ertai\n",
    "import matplotlib.pyplot as plt\n",
    "import numpy as np\n",
    "import random"
   ]
  },
  {
   "cell_type": "code",
   "execution_count": 2,
   "metadata": {},
   "outputs": [],
   "source": [
    "assert ertai.__version__ == \"0.0.2\""
   ]
  },
  {
   "cell_type": "code",
   "execution_count": 3,
   "metadata": {},
   "outputs": [
    {
     "data": {
      "text/plain": [
       "2 Blue Mana"
      ]
     },
     "execution_count": 3,
     "metadata": {},
     "output_type": "execute_result"
    }
   ],
   "source": [
    "spell_cost = ertai.Mana(\"Blue\", \"Blue\")\n",
    "spell_cost"
   ]
  },
  {
   "cell_type": "code",
   "execution_count": 6,
   "metadata": {},
   "outputs": [
    {
     "data": {
      "text/plain": [
       "1 Black Mana, 2 Red Mana, 1 Blue Mana"
      ]
     },
     "execution_count": 6,
     "metadata": {},
     "output_type": "execute_result"
    }
   ],
   "source": [
    "mana_pool = ertai.Mana(\"Black\", \"Red\", \"Blue\", \"Red\")\n",
    "mana_pool"
   ]
  },
  {
   "cell_type": "code",
   "execution_count": 7,
   "metadata": {},
   "outputs": [
    {
     "data": {
      "text/plain": [
       "False"
      ]
     },
     "execution_count": 7,
     "metadata": {},
     "output_type": "execute_result"
    }
   ],
   "source": [
    "spell_cost <= mana_pool"
   ]
  },
  {
   "cell_type": "markdown",
   "metadata": {},
   "source": [
    "# Mana curve"
   ]
  },
  {
   "cell_type": "code",
   "execution_count": 8,
   "metadata": {},
   "outputs": [],
   "source": [
    "def create_deck(n, L):\n",
    "    \"\"\"\n",
    "    Given a vector n and a number of lands L build a deck.\n",
    "    \"\"\"\n",
    "    number_of_lands = L\n",
    "    deck = [ertai.BasicLand() for _ in range(number_of_lands)]\n",
    "    \n",
    "    for cost, number in enumerate(n):\n",
    "        cost = ertai.Mana(*(None for _ in range(cost)))\n",
    "        deck += [ertai.Card(cost=cost) for _ in range(number)]\n",
    "    return deck"
   ]
  },
  {
   "cell_type": "code",
   "execution_count": 9,
   "metadata": {},
   "outputs": [],
   "source": [
    "def play_most_expensive_cards(hand, pool):\n",
    "    \"\"\"\n",
    "    Given a mana pool and a hand.\n",
    "    \n",
    "    Play as many cards as possible (playing most expensive ones first)\n",
    "    \n",
    "    Return number of cards cast, the played card and the remaining pool\n",
    "    after all possible cards are played.\n",
    "    \"\"\"\n",
    "    sorted_hand = sorted(hand, reverse=True, key=lambda card: sum(card.cost.counter.values()))\n",
    "    \n",
    "    played = []\n",
    "    number_cast = 0\n",
    "    for card in sorted_hand:\n",
    "        if (card.cost <= pool) and isinstance(card, ertai.BasicLand) is False:\n",
    "            pool = card.cast(pool)\n",
    "            hand.remove(card)\n",
    "            played.append(card)\n",
    "            number_cast += 1\n",
    "    return number_cast, played, pool"
   ]
  },
  {
   "cell_type": "code",
   "execution_count": 10,
   "metadata": {},
   "outputs": [],
   "source": [
    "def play_land(hand):\n",
    "    \"\"\"\n",
    "    Given a hand if there is a land in the hand it will play it.\n",
    "    \"\"\"\n",
    "    for card in hand:\n",
    "        if isinstance(card, ertai.BasicLand):\n",
    "            hand.remove(card)\n",
    "            return card\n",
    "    return None"
   ]
  },
  {
   "cell_type": "code",
   "execution_count": 11,
   "metadata": {},
   "outputs": [],
   "source": [
    "def play(n, L, seed=0, play_until=0):\n",
    "    \"\"\"\n",
    "    This will play a return:\n",
    "    \n",
    "    - the number of cards player in each turn\n",
    "    - the cost of cards played in each turn\n",
    "    - total number of mana available in each turn\n",
    "    \"\"\"\n",
    "    deck = create_deck(n=n, L=L)\n",
    "    random.seed(seed)\n",
    "    random.shuffle(deck)\n",
    "    \n",
    "    hand, deck = deck[:7], deck[7:]\n",
    "    lands = []\n",
    "    number_of_cards_played = []\n",
    "    number_of_mana_available = []\n",
    "    cost_of_played_cards = []\n",
    "    \n",
    "    while (deck_length := len(deck)) > play_until:\n",
    "\n",
    "        hand.append(deck.pop())\n",
    "\n",
    "        if (land := play_land(hand)) is not None:\n",
    "            lands.append(land)\n",
    "\n",
    "        pool = ertai.Mana()\n",
    "        for land in lands:\n",
    "            land.untap()\n",
    "            pool += land.generate_mana()\n",
    "        \n",
    "        number, cards, pool, = play_most_expensive_cards(hand=hand, pool=pool)\n",
    "        \n",
    "        while(len(hand)) > 7:\n",
    "            random.shuffle(hand)\n",
    "            hand.pop()\n",
    "        \n",
    "        number_of_cards_played.append(number)\n",
    "        cost_of_played_cards.append(sum(sum(card.cost.counter.values()) for card in cards))\n",
    "        number_of_mana_available.append(len(lands))\n",
    "        \n",
    "    return number_of_cards_played, cost_of_played_cards, number_of_mana_available"
   ]
  },
  {
   "cell_type": "markdown",
   "metadata": {},
   "source": [
    "Let us get some data!"
   ]
  },
  {
   "cell_type": "code",
   "execution_count": 12,
   "metadata": {},
   "outputs": [],
   "source": [
    "deck_configurations = (\n",
    "    (0, 8, 10, 6, 2, 2, 4, 4),  # my current deck\n",
    "    (0, 4, 14, 6, 2, 2, 4, 4),  # remove 4 ascendant spirits and play 2 more Negate + Rejects\n",
    "    (0, 6, 10, 6, 2, 2, 4, 6),  # playing more Alrund's Epiphany's, removing 2 stern dissmissal's\n",
    "    (0, 8, 8, 6, 2, 2, 4, 6),  # playing more Alrund's Epiphany's, removing 2 rejects\n",
    "    (0, 0, 0, 10, 10, 10, 5, 5),\n",
    ")"
   ]
  },
  {
   "cell_type": "code",
   "execution_count": 13,
   "metadata": {},
   "outputs": [
    {
     "name": "stderr",
     "output_type": "stream",
     "text": [
      "<ipython-input-13-e14efb1664f1>:6: RuntimeWarning: invalid value encountered in true_divide\n",
      "  ratio.append(np.array(cost_of_played_cards) / np.array(number_of_mana_available))\n"
     ]
    }
   ],
   "source": [
    "mana_ratios = [[] for _ in deck_configurations]\n",
    "for ratio, n in zip(mana_ratios, deck_configurations):\n",
    "    for seed in range(1_000):\n",
    "        L = 60 - np.sum(n)\n",
    "        number_of_cards_played, cost_of_played_cards, number_of_mana_available = play(n, L, seed=seed, play_until=0)\n",
    "        ratio.append(np.array(cost_of_played_cards) / np.array(number_of_mana_available))"
   ]
  },
  {
   "cell_type": "code",
   "execution_count": 14,
   "metadata": {},
   "outputs": [
    {
     "data": {
      "image/png": "[encoded data removed]",
      "text/plain": [
       "<Figure size 432x288 with 1 Axes>"
      ]
     },
     "metadata": {
      "needs_background": "light"
     },
     "output_type": "display_data"
    }
   ],
   "source": [
    "plt.figure()\n",
    "for ratio, n in zip(mana_ratios, deck_configurations):\n",
    "    plt.plot(np.nanmean(ratio, axis=0), label=str(n))\n",
    "plt.legend();"
   ]
  },
  {
   "cell_type": "code",
   "execution_count": null,
   "metadata": {},
   "outputs": [],
   "source": []
  }
 ],
 "metadata": {
  "kernelspec": {
   "display_name": "Python 3",
   "language": "python",
   "name": "python3"
  },
  "language_info": {
   "codemirror_mode": {
    "name": "ipython",
    "version": 3
   },
   "file_extension": ".py",
   "mimetype": "text/x-python",
   "name": "python",
   "nbconvert_exporter": "python",
   "pygments_lexer": "ipython3",
   "version": "3.8.3"
  }
 },
 "nbformat": 4,
 "nbformat_minor": 4
}
