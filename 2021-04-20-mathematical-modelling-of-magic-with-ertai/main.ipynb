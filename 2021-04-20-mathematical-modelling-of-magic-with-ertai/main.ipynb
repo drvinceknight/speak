{
 "cells": [
  {
   "cell_type": "code",
   "execution_count": 1,
   "metadata": {},
   "outputs": [],
   "source": [
    "import ertai"
   ]
  },
  {
   "cell_type": "code",
   "execution_count": 2,
   "metadata": {},
   "outputs": [],
   "source": [
    "assert ertai.__version__ == \"0.0.2\""
   ]
  },
  {
   "cell_type": "code",
   "execution_count": 3,
   "metadata": {},
   "outputs": [
    {
     "data": {
      "text/plain": [
       "2 Blue Mana"
      ]
     },
     "execution_count": 3,
     "metadata": {},
     "output_type": "execute_result"
    }
   ],
   "source": [
    "spell_cost = ertai.Mana(\"Blue\", \"Blue\")\n",
    "spell_cost"
   ]
  },
  {
   "cell_type": "code",
   "execution_count": 4,
   "metadata": {},
   "outputs": [
    {
     "data": {
      "text/plain": [
       "2 Blue Mana, 2 Red Mana"
      ]
     },
     "execution_count": 4,
     "metadata": {},
     "output_type": "execute_result"
    }
   ],
   "source": [
    "mana_pool = ertai.Mana(\"Blue\", \"Red\", \"Red\", \"Blue\")\n",
    "mana_pool"
   ]
  },
  {
   "cell_type": "code",
   "execution_count": 5,
   "metadata": {},
   "outputs": [
    {
     "data": {
      "text/plain": [
       "True"
      ]
     },
     "execution_count": 5,
     "metadata": {},
     "output_type": "execute_result"
    }
   ],
   "source": [
    "spell_cost <= mana_pool"
   ]
  },
  {
   "cell_type": "code",
   "execution_count": 6,
   "metadata": {},
   "outputs": [],
   "source": [
    "def create_deck(number_of_cost_1_cards, total_number_of_cards=60):\n",
    "    \"\"\"\n",
    "    This creates a deck with nothing but cards that cost 1 mana and the rest are lands.\n",
    "    \"\"\"\n",
    "    number_of_lands = total_number_of_cards - number_of_cost_1_cards\n",
    "    lands = [ertai.BasicLand() for _ in range(number_of_lands)]\n",
    "    one_mana = ertai.Mana(None)\n",
    "    cost_1_cards = [ertai.Card(cost=one_mana) for _ in range(number_of_cost_1_cards)]\n",
    "    return lands + cost_1_cards"
   ]
  },
  {
   "cell_type": "code",
   "execution_count": 7,
   "metadata": {},
   "outputs": [],
   "source": [
    "import random\n",
    "\n",
    "def draw_hand(deck, seed):\n",
    "    \"\"\"\n",
    "    Shuffles a deck and draws a hand\n",
    "    \"\"\"\n",
    "    random.seed(seed)\n",
    "    return random.sample(population=deck, k=7)    "
   ]
  },
  {
   "cell_type": "code",
   "execution_count": 8,
   "metadata": {},
   "outputs": [],
   "source": [
    "deck = create_deck(number_of_cost_1_cards=36)\n",
    "hand = draw_hand(deck=deck, seed=0)"
   ]
  },
  {
   "cell_type": "code",
   "execution_count": 9,
   "metadata": {},
   "outputs": [
    {
     "data": {
      "text/plain": [
       "[Card(title=None, cost=1 None Mana, tapped=False),\n",
       " Card(title=None, cost=1 None Mana, tapped=False),\n",
       " Card(title=None, cost=1 None Mana, tapped=False),\n",
       " Card(title=None, cost=1 None Mana, tapped=False),\n",
       " Card(title=None, cost=1 None Mana, tapped=False),\n",
       " BasicLand(title=None, cost=0 Mana, tapped=False, color=None),\n",
       " BasicLand(title=None, cost=0 Mana, tapped=False, color=None)]"
      ]
     },
     "execution_count": 9,
     "metadata": {},
     "output_type": "execute_result"
    }
   ],
   "source": [
    "hand"
   ]
  },
  {
   "cell_type": "code",
   "execution_count": 10,
   "metadata": {},
   "outputs": [
    {
     "data": {
      "text/plain": [
       "ertai.card.Card"
      ]
     },
     "execution_count": 10,
     "metadata": {},
     "output_type": "execute_result"
    }
   ],
   "source": [
    "type(hand[0])"
   ]
  },
  {
   "cell_type": "code",
   "execution_count": 11,
   "metadata": {},
   "outputs": [
    {
     "data": {
      "text/plain": [
       "ertai.card.BasicLand"
      ]
     },
     "execution_count": 11,
     "metadata": {},
     "output_type": "execute_result"
    }
   ],
   "source": [
    "type(hand[-1])"
   ]
  },
  {
   "cell_type": "code",
   "execution_count": 12,
   "metadata": {},
   "outputs": [],
   "source": [
    "def can_play_hand(hand):\n",
    "    \"\"\"\n",
    "    Returns a boolean as to whether or not we can play a hand.\n",
    "    \n",
    "    As all card in this setting have cost 1 we just need to \n",
    "    confirm that there is both a land and a non-land in the hand.\n",
    "    \"\"\"\n",
    "    card_types = [type(card) for card in hand]\n",
    "    return (ertai.Card in card_types) and (ertai.BasicLand in card_types)"
   ]
  },
  {
   "cell_type": "code",
   "execution_count": 13,
   "metadata": {},
   "outputs": [
    {
     "data": {
      "text/plain": [
       "True"
      ]
     },
     "execution_count": 13,
     "metadata": {},
     "output_type": "execute_result"
    }
   ],
   "source": [
    "can_play_hand(hand=hand)"
   ]
  },
  {
   "cell_type": "code",
   "execution_count": 14,
   "metadata": {},
   "outputs": [
    {
     "data": {
      "text/plain": [
       "True"
      ]
     },
     "execution_count": 14,
     "metadata": {},
     "output_type": "execute_result"
    }
   ],
   "source": [
    "deck = create_deck(number_of_cost_1_cards=30)\n",
    "hand = draw_hand(deck=deck, seed=0)\n",
    "can_play_hand(hand=hand)"
   ]
  },
  {
   "cell_type": "code",
   "execution_count": 15,
   "metadata": {},
   "outputs": [],
   "source": [
    "import numpy as np\n",
    "\n",
    "def get_probability_of_being_able_to_play_card(number_of_cost_1_cards, number_of_repetitions=500):\n",
    "    deck = create_deck(number_of_cost_1_cards=number_of_cost_1_cards)\n",
    "    hands = [draw_hand(deck=deck, seed=seed) for seed in range(number_of_repetitions)]\n",
    "    return np.mean([can_play_hand(hand) for hand in hands])"
   ]
  },
  {
   "cell_type": "code",
   "execution_count": 16,
   "metadata": {},
   "outputs": [
    {
     "data": {
      "text/plain": [
       "0.972"
      ]
     },
     "execution_count": 16,
     "metadata": {},
     "output_type": "execute_result"
    }
   ],
   "source": [
    "get_probability_of_being_able_to_play_card(number_of_cost_1_cards=36)"
   ]
  },
  {
   "cell_type": "code",
   "execution_count": 17,
   "metadata": {},
   "outputs": [],
   "source": [
    "number_of_cost_1_cards_values = range(61)\n",
    "probabilities = [get_probability_of_being_able_to_play_card(number_of_cost_1_cards=number) for number in number_of_cost_1_cards_values]"
   ]
  },
  {
   "cell_type": "code",
   "execution_count": 18,
   "metadata": {},
   "outputs": [
    {
     "data": {
      "image/png": "[encoded data removed]",
      "text/plain": [
       "<Figure size 432x288 with 1 Axes>"
      ]
     },
     "metadata": {
      "needs_background": "light"
     },
     "output_type": "display_data"
    }
   ],
   "source": [
    "import matplotlib.pyplot as plt\n",
    "\n",
    "plt.figure()\n",
    "plt.plot(probabilities)\n",
    "plt.xlabel(\"Number of cards with cost 1 in a 60 card deck\")\n",
    "plt.title(\"Probability of being able to play a card in first turn\");"
   ]
  },
  {
   "cell_type": "code",
   "execution_count": null,
   "metadata": {},
   "outputs": [],
   "source": []
  }
 ],
 "metadata": {
  "kernelspec": {
   "display_name": "Python 3",
   "language": "python",
   "name": "python3"
  },
  "language_info": {
   "codemirror_mode": {
    "name": "ipython",
    "version": 3
   },
   "file_extension": ".py",
   "mimetype": "text/x-python",
   "name": "python",
   "nbconvert_exporter": "python",
   "pygments_lexer": "ipython3",
   "version": "3.8.3"
  }
 },
 "nbformat": 4,
 "nbformat_minor": 4
}
