{
 "cells": [
  {
   "cell_type": "code",
   "execution_count": 11,
   "metadata": {
    "collapsed": true
   },
   "outputs": [],
   "source": [
    "def divisible_by_11(number):\n",
    "    \"\"\"Uses above criterion to check if number is divisible by 11\"\"\"\n",
    "    # Catch the base case:\n",
    "    if number < 11:\n",
    "        return number == 0\n",
    "    \n",
    "    string_number = str(number)\n",
    "    # Using abs as the order of the alternating sum doesn't matter.\n",
    "    alternating_sum = abs(sum([(-1) ** i * int(d) for i, d\n",
    "                               in enumerate(string_number)]))\n",
    "    # Recursively calling the function\n",
    "    return divisible_by_11(alternating_sum)"
   ]
  },
  {
   "cell_type": "code",
   "execution_count": 14,
   "metadata": {
    "collapsed": false
   },
   "outputs": [
    {
     "data": {
      "text/plain": [
       "True"
      ]
     },
     "execution_count": 14,
     "metadata": {},
     "output_type": "execute_result"
    }
   ],
   "source": [
    "divisible_by_11(22)"
   ]
  },
  {
   "cell_type": "code",
   "execution_count": null,
   "metadata": {
    "collapsed": true
   },
   "outputs": [],
   "source": []
  }
 ],
 "metadata": {
  "anaconda-cloud": {},
  "kernelspec": {
   "display_name": "Python [default]",
   "language": "python",
   "name": "python3"
  },
  "language_info": {
   "codemirror_mode": {
    "name": "ipython",
    "version": 3
   },
   "file_extension": ".py",
   "mimetype": "text/x-python",
   "name": "python",
   "nbconvert_exporter": "python",
   "pygments_lexer": "ipython3",
   "version": "3.5.2"
  }
 },
 "nbformat": 4,
 "nbformat_minor": 1
}
